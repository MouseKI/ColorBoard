{
 "cells": [
  {
   "cell_type": "markdown",
   "id": "8b5f308c",
   "metadata": {},
   "source": [
    "# <center></span><span style=\"color:#0392cf\">Color Collection</span></center>\n",
    "\n",
    "---"
   ]
  },
  {
   "cell_type": "markdown",
   "id": "5babec41",
   "metadata": {},
   "source": [
    "## <span style=\"color:#ff6453\">颜色标签表</span>\n",
    "\n",
    "\n",
    "| No | Color | Text Sample | Text Highlight | Text Over White |\n",
    "|:----:|:---:|:---:|:---:|:---:|\n",
    "| <span style=\"color:#0392cf\"> 1 </span> | <span style=\"color:#0392cf\"> #0392cf </span> | <span style=\"color:#0392cf\"> 样例文案 abcd <b>ABCD</b> <i>1234</i> </span> | <span style=\"background:#0392cf\"> 样例文案 abcd <b>ABCD</b> <i>1234</i> </span> | <span style=\"color:#0392cf; background:white\"> 样例文案 abcd <b>ABCD</b> <i>1234</i> </span>\n"
   ]
  },
  {
   "cell_type": "markdown",
   "id": "e5c09d44",
   "metadata": {},
   "source": []
  }
 ],
 "metadata": {
  "kernelspec": {
   "display_name": "Python 3 (ipykernel)",
   "language": "python",
   "name": "python3"
  },
  "language_info": {
   "codemirror_mode": {
    "name": "ipython",
    "version": 3
   },
   "file_extension": ".py",
   "mimetype": "text/x-python",
   "name": "python",
   "nbconvert_exporter": "python",
   "pygments_lexer": "ipython3",
   "version": "3.12.0"
  }
 },
 "nbformat": 4,
 "nbformat_minor": 5
}
